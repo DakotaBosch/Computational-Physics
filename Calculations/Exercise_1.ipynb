{
 "cells": [
  {
   "cell_type": "markdown",
   "metadata": {},
   "source": [
    "## Exercise #1 - Intro to Python\n",
    "\n",
    "### Computational Physics Lab\n",
    "\n",
    "### Instructor: Prof. Sean Dobbs\n",
    "\n",
    "### January 16, 2020\n",
    "\n",
    "*Due by 11 PM, January 24th*"
   ]
  },
  {
   "cell_type": "raw",
   "metadata": {},
   "source": []
  },
  {
   "cell_type": "markdown",
   "metadata": {},
   "source": [
    "## Submission"
   ]
  },
  {
   "cell_type": "markdown",
   "metadata": {},
   "source": [
    "For each problem, you will write one or more python programs.  These programs should follow the Python coding and formatting conventions outlined for the course.  Many problems will have additional questions to answer, or will ask for a record of the terminal showing the output when the program is run with various arguements.  These answers can be given either in block comments in the prologue of the corresponding assignment, or in clearly labeled text files.  The terminal output should contain some information on the username and machine you are running on (this will often be in the command prompt).\n",
    "\n",
    "You will be evaluated based on the files contained in your remote GitHub repository at the due date.  You should and commit all the files you created to your local repository on a regular basis. You should do this by adding any new or modified files using \"git add\", and then finalizing changes using \"git commit\".  Remember that \"git status\" will give you information on which files in your repository. have been changed.  Remember to add short, but useful comments when performing a commit. When you are finished with the exercise, push the current status of your local repository to the remote repository on GitHub using the command \"git push -u\". You are encouraged to push your local files to the remote repository periodically before you are done, and certainly well before the deadline, if possible."
   ]
  },
  {
   "cell_type": "markdown",
   "metadata": {},
   "source": [
    "## 1. Altitude of a satellite"
   ]
  },
  {
   "cell_type": "markdown",
   "metadata": {},
   "source": [
    "A satellite is to be launched into a circular orbit around the Earth so that it\n",
    "orbits the planet once every $T$ seconds. "
   ]
  },
  {
   "cell_type": "markdown",
   "metadata": {},
   "source": [
    "(a) Treating the Earth as a perfect sphere with its center of mass in the middle (which is only\n",
    "approximately correct), show that the altitude h above the Earth’s surface that the satellite\n",
    "must have is\n",
    "$$ h = \\left( \\frac{GMT^2}{4\\pi^2} \\right)^{1/3}  - R $$\n",
    "where $G = 6.67 \\times 10^{-11} \\mathrm{m}^3 \\mathrm{kg}^{-1} \\mathrm{s}^{-2}$ is Newton’s gravitational constant, \n",
    "$M = 5.97 \\times 10^24$ kg is the mass of the Earth, and $R = 6371$ km is its radius. "
   ]
  },
  {
   "cell_type": "markdown",
   "metadata": {},
   "source": [
    "(b) Write a program that asks the user to enter the desired value of $T$ and then calculates and\n",
    "prints out the corresponding altitude in meters. Note that floating point real numbers can\n",
    "be represented in scientific notation with E or e indicating the power of 10. For example,\n",
    "6.67e-11 = $6.67 \\times 10^{-11}$."
   ]
  },
  {
   "cell_type": "markdown",
   "metadata": {},
   "source": [
    "(c) Use your program to calculate the altitudes of satellites that orbit the Earth once a day\n",
    "(so-called “geosynchronous” orbit), once every 90 minutes, and once every 45 minutes.\n",
    "What do you conclude from the last of these calculations? "
   ]
  },
  {
   "cell_type": "markdown",
   "metadata": {},
   "source": [
    "(d) Technically a geosynchronous satellite is one that orbits the Earth once per sidereal day\n",
    "(which is 23.93 hours not 24 hours). Why is this? How much difference will it make to the\n",
    "altitude of the satellite? "
   ]
  },
  {
   "cell_type": "markdown",
   "metadata": {},
   "source": [
    "**For full credit** turn in your program, your derivation for part (a), \n",
    "a copy of the three runs of the program showing the three answers it produces, \n",
    "and your answers to the questions in parts (c) and (d). "
   ]
  },
  {
   "cell_type": "markdown",
   "metadata": {},
   "source": [
    "## 2. Quantum Potential Step"
   ]
  },
  {
   "cell_type": "markdown",
   "metadata": {},
   "source": [
    "A well-known quantum mechanics problem involves a particle of\n",
    "mass $m$ that encounters a one-dimensional potential step, like this:\n",
    "<img src=\"http://hadron.physics.fsu.edu/~sdobbs/phyz4151/qstep.png\" width=\"500\">\n",
    " The particle with initial kinetic energy $E$ and\n",
    "wavevector $k_1=\\sqrt{2mE}/\\hbar$ enters from the left and encounters a\n",
    "sudden jump in potential energy of height $V$ at position $x=0$.  By\n",
    "solving the Schrodinger equation, one can show that when $E>V$ the\n",
    "particle may either (a)~pass the step, in which case it has a lower kinetic\n",
    "energy of $E-V$ on the other side and a correspondingly smaller wavevector\n",
    "of $k_2=\\sqrt{2m(E-V)}/\\hbar$, or (b) it may be reflected, keeping all of\n",
    "its kinetic energy and an unchanged wavevector but moving in the opposite\n",
    "direction.  The probabilities $T$ and $R$ for transmission and\n",
    "reflection are given by\n",
    "$$\n",
    "T = \\frac{4k_1k_2}{(k_1+k_2)^2}\\,,\\qquad\n",
    "R = \\biggl( \\frac{k_1-k_2}{k_1+k_2} \\biggr)^2.\n",
    "$$"
   ]
  },
  {
   "cell_type": "markdown",
   "metadata": {},
   "source": [
    "Suppose we have a particle with mass equal to the electron mass $m = 9.11 \\times 10^{-31}$ kg and energy 10 eV encountering a potential step of height 9 eV. Write a Python program to compute and print out the transmission and reflection probabilities using the formulas above."
   ]
  },
  {
   "cell_type": "markdown",
   "metadata": {},
   "source": [
    "**For full credit** turn in your program and a copy of the program in action showing the output that it produces."
   ]
  },
  {
   "cell_type": "markdown",
   "metadata": {},
   "source": [
    "## 3. The Semi-Empirical Mass Formula"
   ]
  },
  {
   "cell_type": "markdown",
   "metadata": {},
   "source": [
    "In nuclear physics, the semi-empirical mass formula is a\n",
    "formula for calculating the approximate nuclear binding energy $B$ of an atomic nucleus with\n",
    "atomic number $Z$ and mass number $A$. The formula looks like this: \n",
    "$$ B = a_1 A - a_2 A^{2/3} - a_3 \\frac{Z^2}{A^{1/3}} - a_4 \\frac{(A-2Z)^2}{A} + \\frac{a_5}{A^{1/2}} $$\n",
    "where, in units of millions of electron volts, the constants are $a_1 = 15.67$, $a_2 = 17.23$, $a_3 = 0.75$, \n",
    "$a_4 = 93.2$, and \n",
    "\n",
    "$$a_5 = \\begin{array}{ll}\n",
    " 12.0 & \\text{if } Z \\text{ and } A-Z \\text{ is even} \\\\\n",
    " -12.0 & \\text{if } Z \\text{ and } A-Z \\text{ is odd} \\\\\n",
    " 0. & \\mathrm{otherwise} \\\\\n",
    "\\end{array} $$\n",
    "Write a program that takes as its input the values of $A$ and $Z$, and prints out (a) the binding energy\n",
    "$B$ for the corresponding atom and (b) the binding energy per nucleon, which is $B/A$. Use your\n",
    "program to find the binding energy of an atom with $A = 58$ and $Z = 28$. (Hint: The correct answer is\n",
    "around 490 MeV.) In your program make use of the *if* statement."
   ]
  },
  {
   "cell_type": "markdown",
   "metadata": {},
   "source": [
    "**For full credit** turn in your program and a copy of the program in action showing the output that it produces."
   ]
  },
  {
   "cell_type": "markdown",
   "metadata": {},
   "source": [
    "## 4. Planetary Orbits"
   ]
  },
  {
   "cell_type": "markdown",
   "metadata": {},
   "source": [
    "The orbit in space of one body around another, such as a planet around the\n",
    "Sun, need not be circular. In general it takes the form of an ellipse, with the body sometimes closer\n",
    "in and sometimes further out. If you are given the distance $\\ell$ of closest approach that a planet\n",
    "makes to the Sun, also called its perihelion, and its linear velocity $v_1$ at perihelion, then any other\n",
    "property of the orbit can be calculated from these two as follows. "
   ]
  },
  {
   "cell_type": "markdown",
   "metadata": {},
   "source": [
    "(a) Kepler’s second law tells us that the distance $\\ell_2$ and velocity $v_2$ of the planet at its most distant\n",
    "point, or *aphelion*, satisfy $\\ell_2 v_2 = \\ell_1 v_1$. At the same time the total energy, kinetic plus gravitational, of a planet with velocity $v$ and distance $r$ from the Sun is given by\n",
    "$$ E = \\frac{1}{2} mv^2 - G \\frac{mM}{r} $$\n",
    "where m is the planet’s mass, $M = 1.9891 \\times 10^{30}$kg is the mass of the Sun, and $G = 6.6738 \\times 10^{-11}~\\mathrm{m}^3\\mathrm{kg}^{-1} \\mathrm{s}^{-2}$\n",
    "is Newton’s gravitational constant. Given that energy must be conserved, show that $v_2$ is the\n",
    "smaller root of the quadratic equation \n",
    "$$ v_2^2 - \\frac{2GM}{v_1\\ell_1} v_2 - \\left[ v_1^2 - \\frac{2GM}{\\ell_1} \\right] = 0 $$\n",
    "Once we have $v_2$ we can calculate $\\ell_2$ using the relation $\\ell_2 = \\ell_1 v_1/v_2$. "
   ]
  },
  {
   "cell_type": "markdown",
   "metadata": {},
   "source": [
    "(b) Given the values of $v_1$, $\\ell_1$, and $\\ell_2$, other parameters of the orbit are given by simple\n",
    "formulas can that be derived from Kepler’s laws and the fact that the orbit is an\n",
    "ellipse: \n",
    "$$\\begin{array}{ll}\n",
    " \\text{Semi-major axis:}   &  a = \\frac{1}{2}(\\ell_1 + \\ell_2)  \\\\\n",
    " \\text{Semi-minor axis:}   &  b = \\sqrt{\\ell_1 \\ell_2}  \\\\\n",
    " \\text{Orbital period:}    &  T = \\frac{2\\pi a b}{\\ell_1 v_1} \\\\\n",
    " \\text{Orbital eccentricity:}   &  e = \\frac{\\ell_2 - \\ell_1}{\\ell_2 + \\ell_1}  \n",
    "\\end{array} $$\n",
    "Write a program that asks the user to enter the distance to the Sun and the velocity at perihelion,\n",
    "then calculates and prints the quantities $\\ell_2$, $v_2$, $T$, and $e$."
   ]
  },
  {
   "cell_type": "markdown",
   "metadata": {},
   "source": [
    "(c) Test your program by having it calculate the properties of the orbits of the Earth (for which\n",
    "$\\ell_1 = 1.4710 \\times 10^{11}$ m and $v_1= 3.0287 \\times 10^4~\\textrm{m s}^{-1}$) and Halley’s comet ($\\ell_1 = 8.7830 \\times 10^{10}$ m and $v_1 = 5.4529 \\times 10^4 \\textrm{m s}^{-1}$). Among other things, you should find that the orbital period of the Earth is\n",
    "one year and that of Halley’s comet is about 76 years. "
   ]
  },
  {
   "cell_type": "markdown",
   "metadata": {},
   "source": [
    "**For full credit** turn in your program and a copy of the program in action showing the output that it produces for the Earth and Halley's comet examples."
   ]
  }
 ],
 "metadata": {
  "kernelspec": {
   "display_name": "Python 3",
   "language": "python",
   "name": "python3"
  },
  "language_info": {
   "codemirror_mode": {
    "name": "ipython",
    "version": 3
   },
   "file_extension": ".py",
   "mimetype": "text/x-python",
   "name": "python",
   "nbconvert_exporter": "python",
   "pygments_lexer": "ipython3",
   "version": "3.6.4"
  }
 },
 "nbformat": 4,
 "nbformat_minor": 2
}
