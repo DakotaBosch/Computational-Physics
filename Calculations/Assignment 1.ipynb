{
 "cells": [
  {
   "cell_type": "code",
   "execution_count": 27,
   "metadata": {
    "scrolled": false
   },
   "outputs": [
    {
     "name": "stdout",
     "output_type": "stream",
     "text": [
      "Hello user, please enter a desired period in seconds:86400\n",
      "The desired altitude of a satellite with period 86400 seconds is : 3.59e+07 meters\n"
     ]
    },
    {
     "data": {
      "text/plain": [
       "'\\nPart C\\n\\nHello user, please enter a desired period in seconds:86400\\nThe desired altitude of a satellite with period 86400 seconds is : 35855910 meters\\n\\nHello user, please enter a desired period in seconds:5400\\nThe desired altitude of a satellite with period 5400 seconds is : 279322 meters\\n\\nHello user, please enter a desired period in seconds:2700\\nThe desired altitude of a satellite with period 2700 seconds is : -2181560 meters\\n\\nMy conclusion is that a satellite cannot have  period as low as 2700s or else it would require it to be below the earths surface.\\n\\n\\nPart D\\n\\nBy definition, a sidereal day is the time it takes Earth to make a full rotational relative to the sun. A geosynchronous satellite would have to match this period in order to remain in phase.\\n\\n35855910 - 35773762 = 82148 meters difference in altitude \\n\\n\\n'"
      ]
     },
     "execution_count": 27,
     "metadata": {},
     "output_type": "execute_result"
    }
   ],
   "source": [
    "\"\"\"\n",
    "Part A\n",
    "\n",
    "r = h + R            #radius from CM equal to earthradius+heightabovesurface\n",
    "\n",
    "GMm/r^2 = mv^2/r     #Gravitational force equal to centripetal force\n",
    "v = sqrt(GM/r)       #rearrange\n",
    "\n",
    "2pi*r = vt           #orbit length equals velocity (in phi) * period\n",
    "v = 2pi*r/t\n",
    "\n",
    "2pi*r/t = sqrt(GM/r)  #combining first two equations\n",
    "r = (GMt^2 / (4pi^2))^(1/3)\n",
    "h = (GMt^2 / (4pi^2))^(1/3) - R\n",
    "\"\"\"\n",
    "import numpy as np\n",
    "\n",
    "G = 6.67e-11       #gravitational constant\n",
    "M = 5.97e24        #mass of earth in kg\n",
    "R = 6.371e6        #radius of earth in m\n",
    "\n",
    "temp = input('Hello user, please enter a desired period in seconds:')\n",
    "t = int(temp)\n",
    "\n",
    "h = (G*M*t**2 / (4*np.pi**2))**(1.0/3) - R\n",
    "print('The desired altitude of a satellite with period',t,'seconds is :','{:.2e}'.format(h), 'meters')\n",
    "\n",
    "\n",
    "\"\"\"\n",
    "Part C\n",
    "\n",
    "Hello user, please enter a desired period in seconds:86400\n",
    "The desired altitude of a satellite with period 86400 seconds is : 35855910 meters\n",
    "\n",
    "Hello user, please enter a desired period in seconds:5400\n",
    "The desired altitude of a satellite with period 5400 seconds is : 279322 meters\n",
    "\n",
    "Hello user, please enter a desired period in seconds:2700\n",
    "The desired altitude of a satellite with period 2700 seconds is : -2181560 meters\n",
    "\n",
    "My conclusion is that a satellite cannot have  period as low as 2700s or else it would require it to be below the earths surface.\n",
    "\n",
    "\n",
    "Part D\n",
    "\n",
    "By definition, a sidereal day is the time it takes Earth to make a full rotational relative to the sun. A geosynchronous satellite would have to match this period in order to remain in phase.\n",
    "\n",
    "35855910 - 35773762 = 82148 meters difference in altitude \n",
    "\n",
    "\n",
    "\"\"\"\n"
   ]
  },
  {
   "cell_type": "code",
   "execution_count": null,
   "metadata": {},
   "outputs": [],
   "source": [
    "import numpy as np\n",
    "from scipy import constants\n",
    "\n",
    "m = 9.11e-31\n",
    "E=10 \n",
    "V=9\n",
    "J = 1.602176565e-19            #conversion from EV to J\n",
    "E=E*J\n",
    "V=V*J\n",
    "\n",
    "\n",
    "k1= (2*m*E)**(1.0/2)/constants.hbar\n",
    "\n",
    "k2 = (2*m*(E-V))**(1.0/2) / constants.hbar\n",
    "\n",
    "\n",
    "T = 4*k1*k2/(k1+k2)**2\n",
    "R = ((k1-k2)/(k1+k2))**2\n",
    "\n",
    "print('The probability for transmission is', '%.2f' % T,'and the probability for reflection is','%.2f' % R)\n",
    "\n",
    "\n",
    "\"\"\"\n",
    "The probability for transmission is 0.73 and the probability for reflection is 0.27\n",
    "\"\"\""
   ]
  },
  {
   "cell_type": "code",
   "execution_count": 4,
   "metadata": {},
   "outputs": [
    {
     "name": "stdout",
     "output_type": "stream",
     "text": [
      "Hello Welcome to the Semi-Emperical Mass Formula, please enter an atomic number:28\n",
      "now enter the mass number:58\n",
      "The binding energy is: 490.78\n"
     ]
    }
   ],
   "source": [
    "a1 = 15.67\n",
    "a2 = 17.23\n",
    "a3 = 0.75\n",
    "a4 = 93.2\n",
    "\n",
    "temp = input('Hello Welcome to the Semi-Emperical Mass Formula, please enter an atomic number:')\n",
    "Z = int(temp)\n",
    "temp = input('Now enter the mass number:')\n",
    "A = int(temp)\n",
    "\n",
    "if A - Z == 0:\n",
    "    a5 = 0\n",
    "elif A - Z & 2 ==0:\n",
    "    a5 = 12\n",
    "else:\n",
    "    a5 = -12\n",
    "\n",
    "\n",
    "B = a1*A - a2*A**(2.0/3)-a3*Z**2/A**(1.0/3)-a4*(A-2*Z)**2/A + a5/A**(1.0/2)\n",
    "\n",
    "\n",
    "print('The binding energy is:','%.2f' % B, 'MeV')"
   ]
  },
  {
   "cell_type": "code",
   "execution_count": 26,
   "metadata": {},
   "outputs": [
    {
     "name": "stdout",
     "output_type": "stream",
     "text": [
      "Hello bruv, please enter the distance to the sun at the perhilion:1.47e11\n",
      "Now enter the corresponding velocity:3e4\n",
      "0.9762686455219362\n"
     ]
    }
   ],
   "source": [
    "\"\"\"\n",
    "v2^2 - 2GMv2/(v1l1) - (v1^2 -2GM/l1) = 0        #Quadratic equation\n",
    "v2 = ((2*G*M/v1/l1) -((2*G*M/v1/l1)**2+4*(v1**2-2*G*M/l1) )**(1.0/2))  /2   #smaller root\n",
    "\n",
    "((2*G*M/v1/l1) -((2*G*M/v1/l1)**2+4*(v1**2-2*G*M/l1) )**(1.0/2))**2/2 - 2GM(((2*G*M/v1/l1) -((2*G*M/v1/l1)**2+4*(v1**2-2*G*M/l1) )**(1.0/2))/2)/(v1l1) -(v1^2 -2GM/l1) = 0  #plugging smaller root into quadratic \n",
    "\n",
    "0 = 0 # wow simplification\n",
    "\n",
    "\n",
    "\"\"\"\n",
    "\n",
    "import numpy as np\n",
    "\n",
    "G = 6.6738e-11       #gravitational constant\n",
    "M = 1.9891e30       #mass of sun in kg\n",
    "\n",
    "temp = input(\"Hello bruv, please enter the distance to the sun at the perhilion:\")\n",
    "l1 = float(temp)\n",
    "temp = input('Now enter the corresponding velocity:')\n",
    "v1 = float(temp)\n",
    "\n",
    "v2 = ((2*G*M/v1/l1) -((2*G*M/v1/l1)**2 + 4*(v1**2-2*G*M/l1) )**(1.0/2))  /2\n",
    "\n",
    "l2 = l1*v1/v2\n",
    "a = (1.0/2)*(l1 + l2)\n",
    "b = (l1*l2)**(1.0/2)\n",
    "T = 2*np.pi*a*b/l1/v1\n",
    "e = (l2-l1)/(l2+l1)\n",
    "\n",
    "y = T/365/3600/24\n",
    "\n",
    "print('Semi-major axis: ' , a, 'Semi-minor axis:',b,'Orbital period:',T,'Orbital eccentricity:',e)\n"
   ]
  },
  {
   "cell_type": "markdown",
   "metadata": {},
   "source": [
    "#### "
   ]
  }
 ],
 "metadata": {
  "kernelspec": {
   "display_name": "Python 3",
   "language": "python",
   "name": "python3"
  },
  "language_info": {
   "codemirror_mode": {
    "name": "ipython",
    "version": 3
   },
   "file_extension": ".py",
   "mimetype": "text/x-python",
   "name": "python",
   "nbconvert_exporter": "python",
   "pygments_lexer": "ipython3",
   "version": "3.6.4"
  }
 },
 "nbformat": 4,
 "nbformat_minor": 2
}
