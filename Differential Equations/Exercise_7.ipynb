{
 "cells": [
  {
   "cell_type": "markdown",
   "metadata": {},
   "source": [
    "# Exercise #7 - Solving Differential Equations\n",
    "\n",
    "### Computational Physics Lab\n",
    "\n",
    "#### Instructor:  Prof. Sean Dobbs\n",
    "\n",
    "#### March 9, 2020\n",
    "\n",
    "#### Due by 11 PM, March 27th\n",
    "\n"
   ]
  },
  {
   "cell_type": "markdown",
   "metadata": {},
   "source": [
    "   "
   ]
  },
  {
   "cell_type": "markdown",
   "metadata": {},
   "source": [
    "## Submission"
   ]
  },
  {
   "cell_type": "markdown",
   "metadata": {},
   "source": [
    "For each problem, you will write one or more python programs.  These programs should follow the Python coding and formatting conventions outlined for the course.  Many problems will have additional questions to answer, or will ask for a record of the terminal showing the output when the program is run with various arguements.  These answers can be given either in block comments in the prologue of the corresponding assignment, or in clearly labeled text files.  The terminal output should contain some information on the username and machine you are running on (this will often be in the command prompt).\n",
    "\n",
    "You will be evaluated based on the files contained in your remote GitHub repository at the due date.  You should and commit all the files you created to your local repository on a regular basis. You should do this by adding any new or modified files using \"git add\", and then finalizing changes using \"git commit\".  Remember that \"git status\" will give you information on which files in your repository. have been changed.  Remember to add short, but useful comments when performing a commit. When you are finished with the exercise, push the current status of your local repository to the remote repository on GitHub using the command \"git push -u\". You are encouraged to push your local files to the remote repository periodically before you are done, and certainly well before the deadline, if possible."
   ]
  },
  {
   "cell_type": "markdown",
   "metadata": {},
   "source": [
    "## 1. The Lotka–Volterra equations"
   ]
  },
  {
   "cell_type": "markdown",
   "metadata": {},
   "source": [
    "The Lotka–Volterra equations are a mathematical model of predator–prey interactions between biological species. Let two variables $x$ and $y$ be proportional to the size of the populations of two species, traditionally called “rabbits” (the prey) and “foxes” (the predators). You could think of $x$ and $y$ as being the population in thousands, say, so that x = 2 means there are 2000 rabbits. Strictly the only allowed values of $x$ and $y$ would then be multiples of 0.001, since you can only have whole numbers of rabbits or foxes. But 0.001 is a pretty close spacing of values, so it’s a decent approximation to treat $x$ and $y$ as continuous real numbers so long as neither gets very close to zero."
   ]
  },
  {
   "cell_type": "markdown",
   "metadata": {},
   "source": [
    "In the Lotka–Volterra model the rabbits reproduce at a rate proportional to their population, but are eaten by the foxes at a rate proportional to both their own population and the population of foxes:\n",
    "$$ \\frac{dx}{dt} = \\alpha x - \\beta x y $$\n",
    "where $\\alpha$ and $\\beta$ are constants. At the same time the foxes reproduce at a rate proportional the rate at which they eat rabbits -- because they need food to grow and reproduce -- but also die of old age at a rate proportional to their own population:\n",
    "$$ \\frac{dy}{dt} = \\gamma x y - \\delta y $$\n",
    "where $\\gamma$ and $\\delta$ are also constants."
   ]
  },
  {
   "cell_type": "markdown",
   "metadata": {},
   "source": [
    "a) Write a program to solve these equations using the fourth-order Runge–Kutta method for the case $\\alpha  = 1$, $\\beta = \\gamma = 0.5$, and $\\delta = 2$, starting from the initial condition $x = y = 2$. Have the program make a graph showing both $x$ and $y$ as a function of time on the same axes from $t = 0$ to $t = 30$. (Hint: Notice that the differential equations in this case do not depend explicitly on time $t$—in vector notation, the right-hand side of each equation is a function `f(r)` with no t dependence. You may nonetheless find it convenient to define a Python function `f(r,t)` including the time variable, so that your program takes the same form as programs given chapter 8. You don’t have to do it that way, but it can avoid some confusion. Several of the following exercises have a similar lack of explicit time-dependence.)"
   ]
  },
  {
   "cell_type": "markdown",
   "metadata": {},
   "source": [
    "b) Describe in words what is going on in the system, in terms of rabbits and foxes."
   ]
  },
  {
   "cell_type": "markdown",
   "metadata": {},
   "source": [
    "**For full credit**  in your program, graph from part (a) and the discussion from part (b)."
   ]
  },
  {
   "cell_type": "markdown",
   "metadata": {},
   "source": [
    "## 2. The Lorenz equations"
   ]
  },
  {
   "cell_type": "markdown",
   "metadata": {},
   "source": [
    "One of the most celebrated sets of differential equations in physics is the\n",
    "Lorenz equations:\n",
    "$$ \\frac{dx}{dt} = \\sigma(y-x),\\quad \\frac{dy}{dt} = rx -y -xz, \\quad \\frac{dz}{dt} = xy -bz$$\n",
    "where $\\sigma$, $r$, and $b$ are constants. (The names $\\sigma$, $r$, and $b$ are odd, but traditional—they are always used in these equations for historical reasons.)"
   ]
  },
  {
   "cell_type": "markdown",
   "metadata": {},
   "source": [
    "These equations were first studied by Edward Lorenz in 1963, who derived them from a simplified model of weather patterns. The reason for their fame is that they were one of the first incontrovertible examples of deterministic chaos, the occurrence of apparently random motion even though there is no randomness built into the equations."
   ]
  },
  {
   "cell_type": "markdown",
   "metadata": {},
   "source": [
    "a) Write a program to solve the Lorenz equations for the case $\\sigma = 10$, $r = 28$, and $b = 8/3$ in the range from $t = 0$ to $t = 50$ with initial conditions $(x, y, z) = (0, 1, 0)$. Have your program\n",
    "make a plot of $y$ as a function of time. Note the unpredictable nature of the motion. (Hint: If you base your program on previous ones, be careful. This problem has parameters $r$ and $b$ with the same names as variables in previous programs—make sure to give your variables new names, or use different names for the parameters, to avoid introducing errors into your code.)"
   ]
  },
  {
   "cell_type": "markdown",
   "metadata": {},
   "source": [
    "b) Modify your program to also produce a plot of $z$ against $x$. You should see a picture of the famous “strange attractor” of the Lorenz equations, a lop-sided butterfly-shaped plot that never repeats itself."
   ]
  },
  {
   "cell_type": "markdown",
   "metadata": {},
   "source": [
    "**For full credit** turn in your program and the two graphs which the program generates."
   ]
  },
  {
   "cell_type": "markdown",
   "metadata": {},
   "source": [
    "## 3. The Nonlinear Pendulum"
   ]
  },
  {
   "cell_type": "markdown",
   "metadata": {},
   "source": [
    "Building on the results from Example 8.6 in chapter 8, calculate the motion given the nonlinear equations of motion for a pendulum:\n",
    "$$ \\frac{d^2 \\theta}{dt^2} = - \\frac{g}{L} \\sin(\\theta)$$"
   ]
  },
  {
   "cell_type": "markdown",
   "metadata": {},
   "source": [
    "a) Write a program to solve the two first-order equations obtained from the above second- order equation, using the fourth-order Runge–Kutta method for a pendulum with a $L=10$ cm arm. Have the program initialize the starting angle from a value obtained on the command line(i.e. use the sys module). Use your program to calculate the evolution of the\n",
    "angle $\\theta$ for small starting angles over several periods of the pendulum. Use $\\theta = 10^\\circ$ from the vertical as your small starting angle. Make a graph of $\\theta$ as a function of time and an\n",
    "additional graph of $d\\theta / dt$ as a function of $\\theta$ (i.e. the velocity of the oscillator against its position). The later plot is called a phase space plot."
   ]
  },
  {
   "cell_type": "markdown",
   "metadata": {},
   "source": [
    "b) Use your program to calculate the angle evolution $\\theta(t)$ over the range of several pendulum periods with the angle initially released from a standstill at $\\theta = 179^\\circ$ from the vertical. Make a graph of $\\theta$ as a function of time and a graph of $d\\theta/dt$ as a function of $\\theta$."
   ]
  },
  {
   "cell_type": "markdown",
   "metadata": {},
   "source": [
    "**For full credit** turn in your program, your derivation for part (a), and your results for part(b)."
   ]
  },
  {
   "cell_type": "markdown",
   "metadata": {},
   "source": [
    "## 4.  The Character of a Short Spring"
   ]
  },
  {
   "cell_type": "markdown",
   "metadata": {},
   "source": [
    "Let's examine realistic effects of a short spring system limited in its stretching length. For example, a spring made of several windings at most would stretch to the unwound length of the spring(assuming the wire itself does not stretch). One could expect some non-linearity between the force applied to the spring and the stretch of the spring. The spring constant, instead of being constant as in a simple harmonic oscillator, could have a quadratic dependence. That is, $k$ would be proportional to $x^2$ giving the nonlinear equation:\n",
    "$$ \\frac{d^2x}{dt^2} + Ax^3 = 0 $$\n",
    "A realistic system will also have a frictional term proportional to the velocity. To over come losses due to friction, and to make the system more interesting at large time values, let's have the system periodically driven. The resulting equation of motion is given below:\n",
    "$$ \\frac{d^2x}{dt^2} + b \\frac{dx}{dt} + Ax^3 = B\\cos(\\omega_d t) $$\n",
    "This equation describes what is known as Duffing's oscillator, and it is know to exhibit a wide variety of behaviors. $A$, $B$, $b$, and $\\omega_d$ are adjustable parameters. For this study, let's set $A=1$ and $\\omega_d =1$, though they need not be."
   ]
  },
  {
   "cell_type": "markdown",
   "metadata": {},
   "source": [
    "a) Write a program to solve the two first-order equations obtained from the above second- order equation, using the fourth-order Runge–Kutta method. Develop your program to\n",
    "graph the position x versus time for 25 periods of the driving frequency $\\omega_d$ and to graph the phase space (i.e. $x$ versus $dx/dt$). Use as starting values for $t =0$, $x = 3$ and $dx/dt=0$. Test your program with parameters $(B, b) = (7, 6)$. You should see the motion transition to a steady state harmonic motion."
   ]
  },
  {
   "cell_type": "markdown",
   "metadata": {},
   "source": [
    "b) Study the system for various choices of the following parameters $(B, b)$ = (7, 6), (7, 0.6), (10, 0.05), and (7, 0.01). For each set of parameters plot the position vs time and the phase space. After the initial transient motion, describe the motion. Is it a steady motion? Do you see any bifurcation (or splitting) of the motion? Are there any solutions which are clearly not a steady motion?"
   ]
  },
  {
   "cell_type": "markdown",
   "metadata": {},
   "source": [
    "c) A measurement of the divergence is attained with the use a device known as the Poincare' section. To generate a Poincare' section, one asks what the phase space looks like at the\n",
    "same phase angle ($\\omega_d t + \\phi$) of the driving frequency, which for our short spring system, is\n",
    "the time corresponding to a multiple of $2\\pi$ (remember $\\omega_d=1$) plus an arbitrary phase. In other words, Poincare' sections are phase space plots with all points erased save those that correspond to a time value of $n2\\pi$ of the forcing period."
   ]
  },
  {
   "cell_type": "markdown",
   "metadata": {},
   "source": [
    "Write a new program (copy and modify the existing program) to create a Poincare' section for the parameters $(B,b) = (7, 0.01)$, at $n2\\pi$. Since the Poincare' section uses only one data point per driving cycle, to receive good resolution many steps are needed (Usually one to two orders of magnitude over that required in the earlier plots). (Hint: one may want to choose a time step equivalent to one degree of the driven phase angle so that one cycle equals 360 steps.)"
   ]
  },
  {
   "cell_type": "markdown",
   "metadata": {},
   "source": [
    "Chaos, chaotic behavior, is described as arising from phase space operations of stretching and folding. Because energy conservation confines the motion to a finite volume in phase space, the chaotic system cannot diverge exponentially forever. The phase space motion must at some time pass near or on prior states; this is know as stretching (exponential divergence in phase space) and folding (confinement in phase space) and it is responsible for the picturesque fractal behavior that is observed in the Poincare' section."
   ]
  },
  {
   "cell_type": "markdown",
   "metadata": {},
   "source": [
    "**For full credit** turn in both programs, along with your plots from part (b) and (c) and the discussion from part (b)."
   ]
  }
 ],
 "metadata": {
  "kernelspec": {
   "display_name": "Python 3",
   "language": "python",
   "name": "python3"
  },
  "language_info": {
   "codemirror_mode": {
    "name": "ipython",
    "version": 3
   },
   "file_extension": ".py",
   "mimetype": "text/x-python",
   "name": "python",
   "nbconvert_exporter": "python",
   "pygments_lexer": "ipython3",
   "version": "3.7.3"
  }
 },
 "nbformat": 4,
 "nbformat_minor": 2
}
