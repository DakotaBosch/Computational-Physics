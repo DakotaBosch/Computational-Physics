{
 "cells": [
  {
   "cell_type": "markdown",
   "metadata": {},
   "source": [
    "##### Exercise #6 - Solving Non-linear Equations\n",
    "\n",
    "### Computational Physics Lab\n",
    "\n",
    "### Instructor: Prof. Sean Dobbs\n",
    "\n",
    "### March 5, 2020\n",
    "\n",
    "**Due by 11 PM, March 13th**"
   ]
  },
  {
   "cell_type": "markdown",
   "metadata": {},
   "source": [
    "   "
   ]
  },
  {
   "cell_type": "markdown",
   "metadata": {},
   "source": [
    "## Submission"
   ]
  },
  {
   "cell_type": "markdown",
   "metadata": {},
   "source": [
    "For each problem, you will write one or more python programs.  These programs should follow the Python coding and formatting conventions outlined for the course.  Many problems will have additional questions to answer, or will ask for a record of the terminal showing the output when the program is run with various arguements.  These answers can be given either in block comments in the prologue of the corresponding assignment, or in clearly labeled text files.  The terminal output should contain some information on the username and machine you are running on (this will often be in the command prompt).\n",
    "\n",
    "You will be evaluated based on the files contained in your remote GitHub repository at the due date.  You should and commit all the files you created to your local repository on a regular basis. You should do this by adding any new or modified files using \"git add\", and then finalizing changes using \"git commit\".  Remember that \"git status\" will give you information on which files in your repository. have been changed.  Remember to add short, but useful comments when performing a commit. When you are finished with the exercise, push the current status of your local repository to the remote repository on GitHub using the command \"git push -u\". You are encouraged to push your local files to the remote repository periodically before you are done, and certainly well before the deadline, if possible."
   ]
  },
  {
   "cell_type": "markdown",
   "metadata": {},
   "source": [
    "## 1. Wien’s Displacement Constant"
   ]
  },
  {
   "cell_type": "markdown",
   "metadata": {},
   "source": [
    "Planck's radiation law tells us that\n",
    "the intensity of radiation per unit area and per unit wavelength $\\lambda$ from a black body at temperature $T$ is\n",
    "$$  I(\\lambda) = \\frac{2\\pi hc^2\\lambda^{-5}}{e^{hc/\\lambda k_BT}-1}\\,,$$\n",
    "where $h$ is Planck's constant, $c$~is the speed of light, and $k_B$ is\n",
    "Boltzmann's constant."
   ]
  },
  {
   "cell_type": "markdown",
   "metadata": {},
   "source": [
    "a) Show by differentiating that the wavelength $\\lambda$ at which the\n",
    "  emitted radiation is strongest is the solution of the equation\n",
    "$$5 e^{-hc/\\lambda k_BT} + \\frac{hc}{\\lambda k_BT} - 5 = 0.$$\n",
    "Make the substitution $x=hc/\\lambda k_BT$ and hence show that the\n",
    "wavelength of maximum radiation obeys the **Wien displacement\n",
    "  law**:\n",
    "$$\\lambda = \\frac{b}{T}\\,,$$\n",
    "where the so-called **Wien displacement constant** is $b=hc/k_Bx$, and\n",
    "$x$ is the solution to the nonlinear equation\n",
    "$$5 e^{-x} + x - 5 = 0.$$"
   ]
  },
  {
   "cell_type": "markdown",
   "metadata": {},
   "source": [
    "b) Write a program to solve this equation to an accuracy\n",
    "  of $\\epsilon=10^{-6}$ using the binary search method, and hence find a\n",
    "  value for the displacement constant.   \n",
    "  Use the `scipy` module to obtain values for the\n",
    "parameters: $h$, $c$, $k_B$. See \"`pydoc scipy.constants`\".\n"
   ]
  },
  {
   "cell_type": "markdown",
   "metadata": {},
   "source": [
    "c) The displacement law is the basis for the method of\n",
    "  *optical pyrometry*, a method for measuring the temperatures\n",
    "  of objects by observing the color of the thermal radiation they emit.\n",
    "  The method is commonly used to estimate the surface temperatures of\n",
    "  astronomical bodies, such as the Sun.  The wavelength peak in the\n",
    "  Sun's emitted radiation falls at $\\lambda=502\\,\\textrm{nm}$.  From the\n",
    "  equations above and your value of the displacement constant, estimate the  surface temperature of the Sun."
   ]
  },
  {
   "cell_type": "markdown",
   "metadata": {},
   "source": [
    "**For full credit**  in your derivation for part (a), your finished program, and your results for in parts (b) and (c)."
   ]
  },
  {
   "cell_type": "markdown",
   "metadata": {},
   "source": [
    "## 2. The Roots of a Polynomial"
   ]
  },
  {
   "cell_type": "markdown",
   "metadata": {},
   "source": [
    "Consider the sixth-order polynomial\n",
    "$$P(x) = 924 x^6 - 2772 x^5 + 3150 x^4 - 1680 x^3 + 420 x^2 - 42 x + 1.$$\n",
    "There is no general formula for the roots of a sixth-order polynomial, but\n",
    "one can find them easily enough using a computer."
   ]
  },
  {
   "cell_type": "markdown",
   "metadata": {},
   "source": [
    "a) Write a program which obtains a polynomial function, its derivative, and a plotting range\n",
    "from the user. The program should then plot the given polynomial function. The program\n",
    "should then ask the user to input an initial value, then determine and print out the root of\n",
    "the polynomial, repeating this process for additional root finding until the user decides to\n",
    "quit. The program should accurately solve for the root value to at least ten decimal places\n",
    "using Newton’s method. The purpose of the plot is to aid the user in determining an initial\n",
    "input value for finding the appropriate root(s) of the polynomial."
   ]
  },
  {
   "cell_type": "markdown",
   "metadata": {},
   "source": [
    "b)  Use your program to find the six roots of the polynomial $P(x)$ in the range $x = (0, 1)$."
   ]
  },
  {
   "cell_type": "markdown",
   "metadata": {},
   "source": [
    "Note that the polynomial $P(x)$ in this example is the sixth Legendre polynomial mapped onto the interval from zero to one."
   ]
  },
  {
   "cell_type": "markdown",
   "metadata": {},
   "source": [
    "**For full credit** turn in your program, a print out of your graph, and the output from this program."
   ]
  },
  {
   "cell_type": "markdown",
   "metadata": {},
   "source": [
    "## 3. The Lagrange Point"
   ]
  },
  {
   "cell_type": "markdown",
   "metadata": {},
   "source": [
    "There is a magical point between the Earth and the Moon, called the L1\n",
    "Lagrange point, at which a satellite will orbit the Earth in perfect synchrony with the Moon,\n",
    "staying always in between the two. This works because the inward pull of the Earth and the\n",
    "outward pull of the Moon combine to create exactly the needed centripetal force that keeps the\n",
    "satellite in its orbit. Here’s the setup:\n",
    "![](http://hadron.physics.fsu.edu/~sdobbs/phyz4151/l1.png)"
   ]
  },
  {
   "cell_type": "markdown",
   "metadata": {},
   "source": [
    "a) Assuming circular orbits, and assuming that the Earth is much more\n",
    "  massive than either the Moon or the satellite, show that the distance $r$\n",
    "  from the center of the Earth to the $L_1$ point satisfies\n",
    "$$\\frac{GM}{r^2} - \\frac{Gm}{(R-r)^2} = \\omega^2 r,$$\n",
    "where $M$ and $m$ are the Earth and Moon masses, $G$ is Newton's\n",
    "gravitational constant, and $\\omega$ is the angular velocity of both the\n",
    "Moon and the satellite.\n",
    " Obtain the value of $G$ from the `scipy` module."
   ]
  },
  {
   "cell_type": "markdown",
   "metadata": {},
   "source": [
    "b) The equation above is a fifth-order polynomial equation in $r$ (also\n",
    "  called a quintic equation).  Such equations cannot be solved exactly in\n",
    "  closed form, but it's straightforward to solve them numerically.  Write a\n",
    "  program that uses either Newton's method or the secant method to solve\n",
    "  for the distance $r$ from the Earth to the $L_1$ point.  Compute a\n",
    "  solution accurate to at least four significant figures.\n"
   ]
  },
  {
   "cell_type": "markdown",
   "metadata": {},
   "source": [
    "The values of the various parameters are: $G = 6.674\\times10^{-11}\\,\\mathrm{m}^3\\mathrm{kg}^{-1}\\mathrm{s}^{-2},$\n",
    "$M = 5.974\\times10^{24}\\,\\mathrm{kg},$\n",
    "$m = 7.348\\times10^{22}\\,\\mathrm{kg},$\n",
    "$R = 3.844\\times10^8\\,\\mathrm{m}$.\n"
   ]
  },
  {
   "cell_type": "markdown",
   "metadata": {},
   "source": [
    "You will also need to choose a suitable starting value for $r$, or two\n",
    "starting values if you use the secant method."
   ]
  },
  {
   "cell_type": "markdown",
   "metadata": {},
   "source": [
    "**For full credit** turn in your program, your derivation for part (a), and your results for part(b)."
   ]
  },
  {
   "cell_type": "markdown",
   "metadata": {},
   "source": [
    "## 4.  Mass on Two Springs"
   ]
  },
  {
   "cell_type": "markdown",
   "metadata": {},
   "source": [
    "As a simple example of the usefulness of the root finding techniques we\n",
    "will attempt to solve a deceptively simple problem that does not have an analytic solution, namely\n",
    "that of a mass suspended between two springs as shown below.\n",
    "![](http://hadron.physics.fsu.edu/~sdobbs/phyz4151/block_two_springs.png)"
   ]
  },
  {
   "cell_type": "markdown",
   "metadata": {},
   "source": [
    "The basic problem is to find the value of $\\theta$ at which this system will be in equilibrium. For our\n",
    "present purposes we will use the following values:\n",
    "* $m = 5$ kg, mass of the object\n",
    "* $L_0 = 0.3$ m, half the distance between the two supports & spring rest length\n",
    "* $k = 1000$ N/m, spring constant\n",
    "* $g = 9.81$ m/s$^2$, acceleration due to gravity"
   ]
  },
  {
   "cell_type": "markdown",
   "metadata": {},
   "source": [
    "Given the information above, derive the following equation that can be\n",
    "solved to find the equilibrium angle $\\theta$:\n",
    "$$ \\tan(\\theta) - \\sin(\\theta) - \\frac{mg}{2kL_0} = 0 $$ \n",
    "The physical problem is to find the angle of the spring when the above system is in equilibrium. If\n",
    "we assume that we can determine the angle to an accuracy of 1/1000 of a degree, then we would\n",
    "like a numerical technique that provides us with at least that much precision."
   ]
  },
  {
   "cell_type": "markdown",
   "metadata": {},
   "source": [
    "The physical problem is to find the angle of the spring when the above system is in equilibrium. If\n",
    "we assume that we can determine the angle to an accuracy of 1/1000 of a degree, then we would\n",
    "like a numerical technique that provides us with at least that much precision"
   ]
  },
  {
   "cell_type": "markdown",
   "metadata": {},
   "source": [
    "One way to accomplish this is to search for the zero of the function in equation above. We can\n",
    "accomplish this using any one of the methods described in class. Furthermore if we examine the\n",
    "progression of the estimates obtained from our root finding methods and continue to iterate until\n",
    "the change in consecutive estimates is below the desired precision, we can get a result that has a\n",
    "known accuracy. "
   ]
  },
  {
   "cell_type": "markdown",
   "metadata": {},
   "source": [
    "a) Write a program which utilizes the Bisection Method to solve this problem. Implement the\n",
    "Bisection Method as a function which returns a list containing the root value and the number of\n",
    "iterations to determine the root to a desired accuracy. You should obtain a value near 30 degrees."
   ]
  },
  {
   "cell_type": "markdown",
   "metadata": {},
   "source": [
    "b) Once you are satisfied with your program from part (a), implement additional root finding\n",
    "functions for the Newton Raphston Method, False Position Method, and Secant Method. Modify\n",
    "your program to solves the two spring problem using all four methods: Bisectional, False Position,\n",
    "Newton-Raphson, and Secant Methods. Compare the results given by all methods. Do they obtain\n",
    "the same roots? Do they have the same rate of convergence to the answer?"
   ]
  },
  {
   "cell_type": "markdown",
   "metadata": {},
   "source": [
    "**For full credit** turn in your program, the derivation of the equation $f(\\theta)$, and your results from parts (b)."
   ]
  }
 ],
 "metadata": {
  "kernelspec": {
   "display_name": "Python 3",
   "language": "python",
   "name": "python3"
  },
  "language_info": {
   "codemirror_mode": {
    "name": "ipython",
    "version": 3
   },
   "file_extension": ".py",
   "mimetype": "text/x-python",
   "name": "python",
   "nbconvert_exporter": "python",
   "pygments_lexer": "ipython3",
   "version": "3.7.3"
  }
 },
 "nbformat": 4,
 "nbformat_minor": 2
}
