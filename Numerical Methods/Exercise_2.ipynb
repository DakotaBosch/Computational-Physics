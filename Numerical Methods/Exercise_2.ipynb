{
 "cells": [
  {
   "cell_type": "markdown",
   "metadata": {},
   "source": [
    "## Exercise #2 - More Python and Accuracy\n",
    "\n",
    "### Computational Physics Lab\n",
    "\n",
    "### Instructor: Prof. Sean Dobbs\n",
    "\n",
    "### January 23, 2020\n",
    "\n",
    "*Due by 11 PM, January 31th*"
   ]
  },
  {
   "cell_type": "raw",
   "metadata": {},
   "source": []
  },
  {
   "cell_type": "markdown",
   "metadata": {},
   "source": [
    "## Submission"
   ]
  },
  {
   "cell_type": "markdown",
   "metadata": {},
   "source": [
    "For each problem, you will write one or more python programs.  These programs should follow the Python coding and formatting conventions outlined for the course.  Many problems will have additional questions to answer, or will ask for a record of the terminal showing the output when the program is run with various arguements.  These answers can be given either in block comments in the prologue of the corresponding assignment, or in clearly labeled text files.  The terminal output should contain some information on the username and machine you are running on (this will often be in the command prompt).\n",
    "\n",
    "You will be evaluated based on the files contained in your remote GitHub repository at the due date.  You should and commit all the files you created to your local repository on a regular basis. You should do this by adding any new or modified files using \"git add\", and then finalizing changes using \"git commit\".  Remember that \"git status\" will give you information on which files in your repository. have been changed.  Remember to add short, but useful comments when performing a commit. When you are finished with the exercise, push the current status of your local repository to the remote repository on GitHub using the command \"git push -u\". You are encouraged to push your local files to the remote repository periodically before you are done, and certainly well before the deadline, if possible."
   ]
  },
  {
   "cell_type": "markdown",
   "metadata": {},
   "source": [
    "## 1. The Madelung Constant"
   ]
  },
  {
   "cell_type": "markdown",
   "metadata": {},
   "source": [
    "In condensed matter physics the Madelung constant gives the total electric potential felt by an atom in a solid. It depends on the charges on the other atoms nearby and their locations. Consider for instance solid sodium chloride—table salt. The sodium chloride crystal has atoms arranged on a cubic lattice, but with alternating sodium and chlorine atoms, the sodium ones having a single positive charge $+e$ and the chlorine ones a single negative charge $-e$,\n", 
    "where $e$ is the charge on the electron. If we label each position on the lattice by three integer coordinates $(i, j, k)$, then the sodium atoms fall at positions where $i + j + k$ is even, and the chlorine atoms at positions where $i + j + k$ is odd. "
   ]
  },
  {
   "cell_type": "markdown",
   "metadata": {},
   "source": [
    "Consider a sodium atom at the origin, $i = j = k = 0$, and let us calculate the Madelung constant. If the spacing of atoms on the lattice is $a$, then the distance from the origin to the atom at position ($i$, $j$, $k$) is \n",
    "$$ \\sqrt{ (ia)^2 + (ja)^2 + (ka)^2 } = a \\sqrt{i^2+j^2+k^2} $$\n",
    "and the potential at the origin created by such an atom is \n",
    "$$ V(i,j,k) = \\pm \\frac{e}{4\\pi \\epsilon_0 a  \\sqrt{i^2+j^2+k^2}} $$\n",
    "with $\\epsilon0$ being the permittivity of the vacuum and the sign of the expression depending on whether $i + j + k$ is even or odd. The total potential felt by the sodium atom is then the sum of this quantity\n",
    "over all other atoms. Let us assume a cubic box around the sodium at the origin, with $L$ atoms in all directions. Then \n",
    "$$  V_\\text{total} = \\sum^{L}_{i,j,k=-L\\\\:\\text{not}\\:i=j=k=0} V(i,j,k) = \\frac{e}{4\\pi\\epsilon_0 a} M  $$\n",
    "where $M$ is the Madelung constant, at least approximately — technically the Madelung constant is the value of $M$ when $L \\rightarrow \\infty$, but one can get a good approximation just by using a large value of $L$. "
   ]
  },
  {
   "cell_type": "markdown",
   "metadata": {},
   "source": [
    "Write a program to calculate and print the Madelung constant for sodium chloride. Use as large a value of $L$ as you can, while still having your program run in reasonable time — say in a minute or less. "
   ]
  },
  {
   "cell_type": "markdown",
   "metadata": {},
   "source": [
    "**For full credit** turn in your program, the answers you calculated using it, and a reasonable estimate of the program run time."
   ]
  },
  {
   "cell_type": "markdown",
   "metadata": {},
   "source": [
    "## 2. Binomial Coefficients"
   ]
  },
  {
   "cell_type": "markdown",
   "metadata": {},
   "source": [
    "The binomial coefficient $n \\choose k$ is an integer equal to\n",
    "$$ {n\\choose k} = \\frac{n!}{k!(n-k)!} = \\frac{n\\times(n-1)\\times(n-2)\\times\\ldots\\times(n-k+1)}{1\\times2\\times\\ldots\\times k}$$\n",
    "where $k\\ge1$, or ${n\\choose0} = 1$ when $k = 0$. "
   ]
  },
  {
   "cell_type": "markdown",
   "metadata": {},
   "source": [
    "a) Using this form for the binomial coefficient, write a Python user-defined function `binomial(n,k)` that calculates the binomial coefficient for given $n$ and $k.$ Make sure your function returns the answer in the form of an integer (not a float) and gives the correct value of 1 for the case where $k = 0$. "
   ]
  },
  {
   "cell_type": "markdown",
   "metadata": {},
   "source": [
    "b) Using your function write a program to print out the first 20 lines of \"Pascal’s triangle.\" The $n$th line of Pascal’s triangle contains $n + 1$ numbers, which are the coefficients ${n \\choose 0}$, ${n \\choose 1}$, and so on, up to ${n \\choose n}$.  Thus the first few lines are\n",
    "$$  \\begin{array}{lllll}\n",
    " 1 \\\\ \n",
    " 1 & 1 \\\\\n",
    " 1 & 2 & 1 \\\\\n",
    " 1 & 3 & 3 & 1 \\\\\n",
    " 1 & 4 & 6 & 4 & 1\n",
    "\\end{array}  $$"
   ]
  },
  {
   "cell_type": "markdown",
   "metadata": {},
   "source": [
    "c) The probability that an unbiased coin, tossed $n$ times, will come up heads $k$ times is $ {n \\choose k} /\\,2^n$. \n",
    "Write a program to calculate (a) the total probability that a coin tossed $n$ times comes up heads exactly $k$ times, and (b) the probability that it comes up heads $k$ or more times. Test your program\n",
    "with input values $n = 137$ and $k = 53$."
   ]
  },
  {
   "cell_type": "markdown",
   "metadata": {},
   "source": [
    "**For full credit** turn in your two programs, a copy of the program output for part (b), and the answers you calculated for part (c). "
   ]
  },
  {
   "cell_type": "markdown",
   "metadata": {},
   "source": [
    "## 3. Quadratic Equations"
   ]
  },
  {
   "cell_type": "markdown",
   "metadata": {},
   "source": [
    "a) Write a program that takes as input three numbers, $a$, $b$,\n",
    "  and $c$, and prints out the two solutions to the quadratic equation\n",
    "  $ax^2+bx+c=0$ using the standard formula\n",
    "$$ x = \\frac{-b \\pm \\sqrt{b^2-4ac}}{2a}. $$\n",
    "Use your program to compute the solutions of $0.001 x^2 + 1000 x + 0.001 = 0$."
   ]
  },
  {
   "cell_type": "markdown",
   "metadata": {},
   "source": [
    "b) There is another way to write the solutions to a quadratic equation.\n",
    "  Multiplying top and bottom of the solution above by\n",
    "  $-b\\mp\\sqrt{b^2-4ac}$, show that the solutions can also be written as\n",
    "$$ x = \\frac{2c}{-b\\mp\\sqrt{b^2-4ac}}. $$\n",
    "Add further lines to your program to print out these values in addition to the earlier ones and again use the program to solve $0.001 x^2 + 1000 x + 0.001 = 0$.  What do you see, and how does it compare to the answer in part (a)?  How do you explain it?"
   ]
  },
  {
   "cell_type": "markdown",
   "metadata": {},
   "source": [
    "c) Using what you have learned, write a new program that calculates both\n",
    "  roots of a quadratic equation most accurately in all cases (remember what we talked about in class regarding the accuracy of different arithmatic operations)."
   ]
  },
  {
   "cell_type": "markdown",
   "metadata": {},
   "source": [
    "**For full credit** turn in both programs, the derivation described in part (b), and a copy of both programs in action showing the output that they produce."
   ]
  },
  {
   "cell_type": "markdown",
   "metadata": {},
   "source": [
    "## 4. Calculating Derivatives"
   ]
  },
  {
   "cell_type": "markdown",
   "metadata": {},
   "source": [
    "Suppose we have a function $f(x)$ and we want to\n",
    "calculate its derivative at a point $x$.  We can do that with pencil and\n",
    "paper if we know the mathematical form of the function, or we can do it on the computer by making use of the definition of the derivative:\n",
    "$${\\frac{d f}{d x}} = \\lim_{\\delta\\to0} \\frac{f(x+\\delta)-f(x)}{\\delta}.$$\n",
    "On the computer we can't actually take the limit as $\\delta$ goes to\n",
    "zero, but we can get a reasonable approximation just by making $\\delta$\n",
    "small.\n"
   ]
  },
  {
   "cell_type": "markdown",
   "metadata": {},
   "source": [
    "(a) Write a program that defines a function $f(x)$ returning the\n",
    "  value $x(x-1)$, then calculates the derivative of the function at the\n",
    "  point $x=1$ using the formula above with $\\delta=10^{-2}$.  Calculate\n",
    "  the true value of the same derivative analytically and compare with the\n",
    "  answer your program gives.  The two will not agree perfectly.  Why not?"
   ]
  },
  {
   "cell_type": "markdown",
   "metadata": {},
   "source": [
    "(b) Repeat the calculation for $\\delta=10^{-4}$, $10^{-6}$, $10^{-8}$,\n",
    "  $10^{-10}$, $10^{-12}$, and $10^{-14}$.  You should see that the accuracy\n",
    "  of the calculation initially gets better as $\\delta$ gets smaller, but\n",
    "  then gets worse again.  Why is this?"
   ]
  },
  {
   "cell_type": "markdown",
   "metadata": {},
   "source": [
    "**For full credit**  turn in a printout of your two programs, the results from the various calculations, and your answer to the questions in part (a) and part (b)"
   ]
  },
  {
   "cell_type": "markdown",
   "metadata": {},
   "source": [
    "We will look at numerical derivatives in more detail later in the course, when we will study techniques for dealing with these issues."
   ]
  }
 ],
 "metadata": {
  "kernelspec": {
   "display_name": "Python 3",
   "language": "python",
   "name": "python3"
  },
  "language_info": {
   "codemirror_mode": {
    "name": "ipython",
    "version": 3
   },
   "file_extension": ".py",
   "mimetype": "text/x-python",
   "name": "python",
   "nbconvert_exporter": "python",
   "pygments_lexer": "ipython3",
   "version": "3.7.3"
  }
 },
 "nbformat": 4,
 "nbformat_minor": 2
}
