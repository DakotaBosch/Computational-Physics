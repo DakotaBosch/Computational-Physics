{
 "cells": [
  {
   "cell_type": "markdown",
   "metadata": {},
   "source": [
    "## Exercise #3 - Numerical Integration\n",
    "\n",
    "### Computational Physics Lab\n",
    "\n",
    "### Instructor: Prof. Sean Dobbs\n",
    "\n",
    "### January 30, 2020\n",
    "\n",
    "*Due by 11 PM, February 7th**"
   ]
  },
  {
   "cell_type": "raw",
   "metadata": {},
   "source": [
    "   "
   ]
  },
  {
   "cell_type": "markdown",
   "metadata": {},
   "source": [
    "## Submission"
   ]
  },
  {
   "cell_type": "markdown",
   "metadata": {},
   "source": [
    "For each problem, you will write one or more python programs.  These programs should follow the Python coding and formatting conventions outlined for the course.  Many problems will have additional questions to answer, or will ask for a record of the terminal showing the output when the program is run with various arguements.  These answers can be given either in block comments in the prologue of the corresponding assignment, or in clearly labeled text files.  The terminal output should contain some information on the username and machine you are running on (this will often be in the command prompt).\n",
    "\n",
    "You will be evaluated based on the files contained in your remote GitHub repository at the due date.  You should and commit all the files you created to your local repository on a regular basis. You should do this by adding any new or modified files using \"git add\", and then finalizing changes using \"git commit\".  Remember that \"git status\" will give you information on which files in your repository. have been changed.  Remember to add short, but useful comments when performing a commit. When you are finished with the exercise, push the current status of your local repository to the remote repository on GitHub using the command \"git push -u\". You are encouraged to push your local files to the remote repository periodically before you are done, and certainly well before the deadline, if possible."
   ]
  },
  {
   "cell_type": "markdown",
   "metadata": {},
   "source": [
    "## 1. Simpson's Rule"
   ]
  },
  {
   "cell_type": "markdown",
   "metadata": {},
   "source": [
    "(a) Write a program to calculate an approximate value for the integral\n",
    "  $\\int_0^2 (x^4 - 2x + 1)\\, dx$ from Example 5.1, but using Simpson's\n",
    "  rule with 10 slices instead of the trapezoidal rule.  You may wish to\n",
    "  base your program on the trapezoidal rule program on\n",
    "  page 142."
   ]
  },
  {
   "cell_type": "markdown",
   "metadata": {},
   "source": [
    "(b) Run the program and compare your result to the known correct value of\n",
    "  4.4.  What is the fractional error on your calculation?"
   ]
  },
  {
   "cell_type": "markdown",
   "metadata": {},
   "source": [
    "(c) Modify the program to use a hundred slices instead, then a thousand.\n",
    "  Note the improvement in the result.  How do the results compare with\n",
    "  those from Example 5.1 for the trapezoidal rule with the same numbers of\n",
    "  slices?"
   ]
  },
  {
   "cell_type": "markdown",
   "metadata": {},
   "source": [
    "**For full credit** turn in your program, plus your results and a brief discussion of how\n",
    "they compare with the trapezoidal rule."
   ]
  },
  {
   "cell_type": "markdown",
   "metadata": {},
   "source": [
    "## 2. Gaussian Error Function"
   ]
  },
  {
   "cell_type": "markdown",
   "metadata": {},
   "source": [
    "Consider the integral\n",
    "$$E(x) = \\int_0^x e^{-t^2} \\, dt.$$"
   ]
  },
  {
   "cell_type": "markdown",
   "metadata": {},
   "source": [
    "a) Write a program to calculate $E(x)$ for values of $x$ from 0 to 3 in\n",
    "  steps of 0.1.  Choose the trapezoidal method for performing the integral and choose a suitable number of slices."
   ]
  },
  {
   "cell_type": "markdown",
   "metadata": {},
   "source": [
    "b) When you are convinced your program is working, extend it further to\n",
    "  make a graph of $E(x)$ as a function of $x$.  If you want to remind\n",
    "  yourself of how to make a graph, you should consult Section 3.1, starting\n",
    "  on page 88."
   ]
  },
  {
   "cell_type": "markdown",
   "metadata": {},
   "source": [
    "Note that there is no known way to perform this particular integral\n",
    "analytically, so numerical approaches are the only way forward.\n"
   ]
  },
  {
   "cell_type": "markdown",
   "metadata": {},
   "source": [
    "**For full credit** turn in your program and a copy of your graph from part (b)."
   ]
  },
  {
   "cell_type": "markdown",
   "metadata": {},
   "source": [
    "## 3. Adaptive Integration"
   ]
  },
  {
   "cell_type": "markdown",
   "metadata": {},
   "source": [
    "Consider the integral\n",
    "$$I = \\int_0^1 \\sin^2 \\sqrt{100 x} \\, dx$$"
   ]
  },
  {
   "cell_type": "markdown",
   "metadata": {},
   "source": [
    "a) Write a program that uses the adaptive trapezoidal rule method of\n",
    "  Section 5.3 and Eq. (5.34) to calculate the value of this integral to an\n",
    "  approximate accuracy of $\\epsilon=10^{-6}$ (i.e., correct to six digits\n",
    "  after the decimal point).  Start with one single integration slice and\n",
    "  work up from there to two, four, eight, and so forth.  Have your program\n",
    "  print out the number of slices, its estimate of the integral, and its\n",
    "  estimate of the error on the integral, for each value of the number of\n",
    "  slices $N$, until the target accuracy is reached.  (Hint: You should find\n",
    "  the result is around $I=0.45$.)"
   ]
  },
  {
   "cell_type": "markdown",
   "metadata": {},
   "source": [
    "b) Now modify your program to evaluate the same integral using the\n",
    "  adaptive Simpson's rule method.  Have your\n",
    "  program print out a similar table of values as in part(a).  Using the formula\n",
    "provided in the lecture notes, starting with one integration slice, and working up from there, print\n",
    "out the results as in part (a) until the required accuracy is reached. You should find you reach the\n",
    "accuracy for a significantly smaller number of slices than with the trapezoidal rule calculation of\n",
    "part (a). Does this agree with expectations? Explain."
   ]
  },
  {
   "cell_type": "markdown",
   "metadata": {},
   "source": [
    "**For full credit** turn in a your final program from part (b), printouts\n",
    "showing both adaptive integration methods in action (part (a) and part (b)) and clearly showing\n",
    "the output values, and the discussion from part (b)."
   ]
  },
  {
   "cell_type": "markdown",
   "metadata": {},
   "source": [
    "## 4. Heat Capacity of a Solid"
   ]
  },
  {
   "cell_type": "markdown",
   "metadata": {},
   "source": [
    "Debye's theory of solids gives the heat capacity of a solid at\n",
    "temperature $T$ to be\n",
    "$$C_V = 9V\\rho k_B \\biggl( {\\frac{T}{\\theta_D}} \\biggr)^3 \\int_0^{\\theta_D/T}\n",
    "      \\frac{x^4 e^x}{(e^x-1)^2} \\, dx,$$\n",
    "where $V$ is the volume of the solid, $\\rho$ is the number density of\n",
    "atoms, $k_B$ is Boltzmann's constant, and $\\theta_D$ is the so-called\n",
    "*Debye temperature*, a property of solids that depends on their\n",
    "density and speed of sound.\n"
   ]
  },
  {
   "cell_type": "markdown",
   "metadata": {},
   "source": [
    "(a) Write a Python function **cv(T)** that calculates $C_V$ for a\n",
    "  given value of the temperature, for a sample consisting of 1000 cubic\n",
    "  centimeters of solid aluminum, which has a number density of\n",
    "  $\\rho=6.022\\times10^{28}\\,\\mathrm{m}^{-3}$ and a Debye temperature of\n",
    "  $\\theta_D=428\\,$K.  Use Gaussian quadrature to evaluate the integral,\n",
    "  with $N=50$ sample points."
   ]
  },
  {
   "cell_type": "markdown",
   "metadata": {},
   "source": [
    "(b) Use your function to make a graph of the heat capacity as a function\n",
    "  of temperature from $T=5\\,$K to $T=500\\,$K."
   ]
  },
  {
   "cell_type": "markdown",
   "metadata": {},
   "source": [
    "**For full credit**  turn in your program, and your graph from part (b)."
   ]
  },
  {
   "cell_type": "markdown",
   "metadata": {},
   "source": [
    "## EC. Period of an anharmonic oscillator - Extra Credit (+5)"
   ]
  },
  {
   "cell_type": "markdown",
   "metadata": {},
   "source": [
    "The simple harmonic oscillator crops up in many places.  Its\n",
    "behavior can be studied readily using analytic methods and it has the\n",
    "important property that its period of oscillation is a constant,\n",
    "independent of its amplitude, making it useful, for instance, for keeping\n",
    "time in watches and clocks.  Frequently in physics, however, we also come\n",
    "across anharmonic oscillators, whose period varies with amplitude and whose\n",
    "behavior cannot usually be calculated analytically."
   ]
  },
  {
   "cell_type": "markdown",
   "metadata": {},
   "source": [
    "A general classical oscillator can be thought of as a particle in a concave\n",
    "potential well.  When disturbed, the particle will rock back and forth in\n",
    "the well:\n",
    "![Anharmonic potential](http://hadron.physics.fsu.edu/~sdobbs/phyz4151/anharmonic.png)\n",
    "The harmonic oscillator corresponds to a quadratic potential $V(x) \\propto\n",
    "x^2$.  Any other form gives an anharmonic oscillator.  (Thus there are many\n",
    "different kinds of anharmonic oscillator, depending on the exact form of\n",
    "the potential.)\n"
   ]
  },
  {
   "cell_type": "markdown",
   "metadata": {},
   "source": [
    "One way to calculate the motion of an oscillator is to write down the\n",
    "equation for the conservation of energy in the system.  If the particle has\n",
    "mass $m$ and position $x$, then the total energy is equal to the sum of the\n",
    "kinetic and potential energies thus:\n",
    "$$E = \\frac{1}{2} m \\biggl( \\frac{dx}{dt} \\biggr)^2 + V(x).$$\n",
    "Since the energy must be constant over time, this equation is effectively a\n",
    "(nonlinear) differential equation linking $x$ and $t$."
   ]
  },
  {
   "cell_type": "markdown",
   "metadata": {},
   "source": [
    "Let us assume that the potential $V(x)$ is symmetric about $x=0$ and let us\n",
    "set our anharmonic oscillator going with amplitude $a$.  That is, at $t=0$\n",
    "we release it from rest at position $x=a$ and it swings back towards the\n",
    "origin.  Then at $t=0$ we have $dx/dt = 0$ and the equation above\n",
    "reads $E = V(a)$, which gives us the total energy of the particle in terms\n",
    "of the amplitude.\n"
   ]
  },
  {
   "cell_type": "markdown",
   "metadata": {},
   "source": [
    "(a) When the particle reaches the origin for the first time, it has gone\n",
    "  through one quarter of a period of the oscillator.  By rearranging the\n",
    "  equation above for $d x/d t$ and then integrating with respect to $t$\n",
    "  from 0 to $\\frac{14}{T}$, show that the period $T$ is given by\n",
    "$$T = \\sqrt{8m} \\int_0^a \\frac{d x}{\\sqrt{V(a)-V(x)}}.$$"
   ]
  },
  {
   "cell_type": "markdown",
   "metadata": {},
   "source": [
    "(b) Suppose the potential is $V(x)=x^4$ and the mass of the particle is\n",
    "  $m=1$.  Write a Python function that calculates the period of the\n",
    "  oscillator for given amplitude $a$ using Gaussian quadrature with $N=20$\n",
    "  points, then use your function to make a graph of the period for\n",
    "  amplitudes ranging from $a=0$ to $a=2$.\n"
   ]
  },
  {
   "cell_type": "markdown",
   "metadata": {},
   "source": [
    "(c) You should find that the oscillator gets faster as the amplitude\n",
    "  increases, even though the particle has further to travel for larger\n",
    "  amplitude.  And you should find that the period diverges as the amplitude\n",
    "  goes to zero.  How do you explain these results?"
   ]
  },
  {
   "cell_type": "markdown",
   "metadata": {},
   "source": [
    "**For full extra credit**  turn your program, the derivation for part(a), the graph for part (b), and the discussion for part (c)."
   ]
  }
 ],
 "metadata": {
  "kernelspec": {
   "display_name": "Python 3",
   "language": "python",
   "name": "python3"
  },
  "language_info": {
   "codemirror_mode": {
    "name": "ipython",
    "version": 3
   },
   "file_extension": ".py",
   "mimetype": "text/x-python",
   "name": "python",
   "nbconvert_exporter": "python",
   "pygments_lexer": "ipython3",
   "version": "3.7.3"
  }
 },
 "nbformat": 4,
 "nbformat_minor": 2
}
